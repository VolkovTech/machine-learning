{
 "cells": [
  {
   "cell_type": "markdown",
   "metadata": {
    "colab_type": "text",
    "id": "view-in-github"
   },
   "source": [
    "<a href=\"https://colab.research.google.com/github/https-deeplearning-ai/tensorflow-1-public/blob/20_sep_2021_fixes/C3/W2/ungraded_labs/C3_W2_Lab_2_sarcasm_classifier.ipynb\" target=\"_parent\"><img src=\"https://colab.research.google.com/assets/colab-badge.svg\" alt=\"Open In Colab\"/></a>"
   ]
  },
  {
   "cell_type": "code",
   "execution_count": 1,
   "metadata": {
    "id": "zX4Kg8DUTKWO"
   },
   "outputs": [],
   "source": [
    "#@title Licensed under the Apache License, Version 2.0 (the \"License\");\n",
    "# you may not use this file except in compliance with the License.\n",
    "# You may obtain a copy of the License at\n",
    "#\n",
    "# https://www.apache.org/licenses/LICENSE-2.0\n",
    "#\n",
    "# Unless required by applicable law or agreed to in writing, software\n",
    "# distributed under the License is distributed on an \"AS IS\" BASIS,\n",
    "# WITHOUT WARRANTIES OR CONDITIONS OF ANY KIND, either express or implied.\n",
    "# See the License for the specific language governing permissions and\n",
    "# limitations under the License."
   ]
  },
  {
   "cell_type": "markdown",
   "metadata": {
    "id": "DblSKtgISM2d"
   },
   "source": [
    "**Note:** This notebook can run using TensorFlow 2.5.0"
   ]
  },
  {
   "cell_type": "code",
   "execution_count": 2,
   "metadata": {
    "id": "4gs9htvM7n_x"
   },
   "outputs": [],
   "source": [
    "#!pip install tensorflow==2.5.0"
   ]
  },
  {
   "cell_type": "code",
   "execution_count": 3,
   "metadata": {
    "id": "XYYDvoskkE61"
   },
   "outputs": [],
   "source": [
    "import json\n",
    "import tensorflow as tf\n",
    "\n",
    "from tensorflow.keras.preprocessing.text import Tokenizer\n",
    "from tensorflow.keras.preprocessing.sequence import pad_sequences"
   ]
  },
  {
   "cell_type": "code",
   "execution_count": 4,
   "metadata": {
    "id": "0eJSTTYnkJQd"
   },
   "outputs": [],
   "source": [
    "vocab_size = 10000\n",
    "embedding_dim = 16\n",
    "max_length = 100\n",
    "trunc_type='post'\n",
    "padding_type='post'\n",
    "oov_tok = \"<OOV>\"\n",
    "training_size = 20000\n"
   ]
  },
  {
   "cell_type": "code",
   "execution_count": 5,
   "metadata": {
    "id": "BQVuQrZNkPn9"
   },
   "outputs": [
    {
     "name": "stderr",
     "output_type": "stream",
     "text": [
      "Downloading...\n",
      "From: https://drive.google.com/uc?id=1xRU3xY5-tkiPGvlz5xBJ18_pHWSRzI4v\n",
      "To: C:\\Users\\79654\\Desktop\\Programming\\new_life\\3. Natural Language Processing in TensorFlow\\sarcasm.json\n",
      "\n",
      "0.00B [00:00, ?B/s]\n",
      "524kB [00:00, 3.97MB/s]\n",
      "1.05MB [00:00, 3.79MB/s]\n",
      "1.57MB [00:00, 3.72MB/s]\n",
      "2.10MB [00:00, 3.65MB/s]\n",
      "2.62MB [00:00, 3.65MB/s]\n",
      "3.15MB [00:00, 3.60MB/s]\n",
      "3.67MB [00:01, 3.61MB/s]\n",
      "4.19MB [00:01, 3.57MB/s]\n",
      "4.72MB [00:01, 3.48MB/s]\n",
      "5.24MB [00:01, 3.51MB/s]\n",
      "5.64MB [00:01, 3.59MB/s]\n",
      "5.64MB [00:01, 3.57MB/s]\n"
     ]
    }
   ],
   "source": [
    "# sarcasm.json\n",
    "!gdown --id 1xRU3xY5-tkiPGvlz5xBJ18_pHWSRzI4v"
   ]
  },
  {
   "cell_type": "code",
   "execution_count": 6,
   "metadata": {
    "id": "oaLaaqhNkUPd"
   },
   "outputs": [],
   "source": [
    "with open(\"./sarcasm.json\", 'r') as f:\n",
    "    datastore = json.load(f)\n",
    "\n",
    "sentences = []\n",
    "labels = []\n",
    "\n",
    "for item in datastore:\n",
    "    sentences.append(item['headline'])\n",
    "    labels.append(item['is_sarcastic'])"
   ]
  },
  {
   "cell_type": "code",
   "execution_count": 7,
   "metadata": {
    "id": "S1sD-7v0kYWk"
   },
   "outputs": [],
   "source": [
    "training_sentences = sentences[0:training_size]\n",
    "testing_sentences = sentences[training_size:]\n",
    "training_labels = labels[0:training_size]\n",
    "testing_labels = labels[training_size:]"
   ]
  },
  {
   "cell_type": "code",
   "execution_count": 8,
   "metadata": {
    "id": "3u8UB0MCkZ5N"
   },
   "outputs": [],
   "source": [
    "tokenizer = Tokenizer(num_words=vocab_size, oov_token=oov_tok)\n",
    "tokenizer.fit_on_texts(training_sentences)\n",
    "\n",
    "word_index = tokenizer.word_index\n",
    "\n",
    "training_sequences = tokenizer.texts_to_sequences(training_sentences)\n",
    "training_padded = pad_sequences(training_sequences, maxlen=max_length, padding=padding_type, truncating=trunc_type)\n",
    "\n",
    "testing_sequences = tokenizer.texts_to_sequences(testing_sentences)\n",
    "testing_padded = pad_sequences(testing_sequences, maxlen=max_length, padding=padding_type, truncating=trunc_type)"
   ]
  },
  {
   "cell_type": "code",
   "execution_count": 9,
   "metadata": {
    "id": "GrAlWBKf99Ya"
   },
   "outputs": [],
   "source": [
    "# Need this block to get it to work with TensorFlow 2.x\n",
    "import numpy as np\n",
    "training_padded = np.array(training_padded)\n",
    "training_labels = np.array(training_labels)\n",
    "testing_padded = np.array(testing_padded)\n",
    "testing_labels = np.array(testing_labels)"
   ]
  },
  {
   "cell_type": "code",
   "execution_count": 10,
   "metadata": {
    "id": "FufaT4vlkiDE"
   },
   "outputs": [],
   "source": [
    "model = tf.keras.Sequential([\n",
    "    tf.keras.layers.Embedding(vocab_size, embedding_dim, input_length=max_length),\n",
    "    tf.keras.layers.GlobalAveragePooling1D(),\n",
    "    tf.keras.layers.Dense(24, activation='relu'),\n",
    "    tf.keras.layers.Dense(1, activation='sigmoid')\n",
    "])\n",
    "model.compile(loss='binary_crossentropy',optimizer='adam',metrics=['accuracy'])"
   ]
  },
  {
   "cell_type": "code",
   "execution_count": 11,
   "metadata": {
    "id": "XfDt1hmYkiys"
   },
   "outputs": [
    {
     "name": "stdout",
     "output_type": "stream",
     "text": [
      "Model: \"sequential\"\n",
      "_________________________________________________________________\n",
      "Layer (type)                 Output Shape              Param #   \n",
      "=================================================================\n",
      "embedding (Embedding)        (None, 100, 16)           160000    \n",
      "_________________________________________________________________\n",
      "global_average_pooling1d (Gl (None, 16)                0         \n",
      "_________________________________________________________________\n",
      "dense (Dense)                (None, 24)                408       \n",
      "_________________________________________________________________\n",
      "dense_1 (Dense)              (None, 1)                 25        \n",
      "=================================================================\n",
      "Total params: 160,433\n",
      "Trainable params: 160,433\n",
      "Non-trainable params: 0\n",
      "_________________________________________________________________\n"
     ]
    }
   ],
   "source": [
    "model.summary()\n"
   ]
  },
  {
   "cell_type": "code",
   "execution_count": 12,
   "metadata": {
    "id": "2DTKQFf1kkyc"
   },
   "outputs": [
    {
     "name": "stdout",
     "output_type": "stream",
     "text": [
      "Epoch 1/30\n",
      "625/625 - 9s - loss: 0.6750 - accuracy: 0.5677 - val_loss: 0.6223 - val_accuracy: 0.6193\n",
      "Epoch 2/30\n",
      "625/625 - 3s - loss: 0.4543 - accuracy: 0.8181 - val_loss: 0.3903 - val_accuracy: 0.8335\n",
      "Epoch 3/30\n",
      "625/625 - 4s - loss: 0.3141 - accuracy: 0.8709 - val_loss: 0.3647 - val_accuracy: 0.8398\n",
      "Epoch 4/30\n",
      "625/625 - 4s - loss: 0.2614 - accuracy: 0.8955 - val_loss: 0.3511 - val_accuracy: 0.8478\n",
      "Epoch 5/30\n",
      "625/625 - 5s - loss: 0.2256 - accuracy: 0.9129 - val_loss: 0.3526 - val_accuracy: 0.8486\n",
      "Epoch 6/30\n",
      "625/625 - 5s - loss: 0.1983 - accuracy: 0.9237 - val_loss: 0.3516 - val_accuracy: 0.8547\n",
      "Epoch 7/30\n",
      "625/625 - 4s - loss: 0.1756 - accuracy: 0.9333 - val_loss: 0.3649 - val_accuracy: 0.8538\n",
      "Epoch 8/30\n",
      "625/625 - 4s - loss: 0.1569 - accuracy: 0.9427 - val_loss: 0.3829 - val_accuracy: 0.8517\n",
      "Epoch 9/30\n",
      "625/625 - 5s - loss: 0.1403 - accuracy: 0.9492 - val_loss: 0.3985 - val_accuracy: 0.8524\n",
      "Epoch 10/30\n",
      "625/625 - 7s - loss: 0.1271 - accuracy: 0.9564 - val_loss: 0.4257 - val_accuracy: 0.8481\n",
      "Epoch 11/30\n",
      "625/625 - 6s - loss: 0.1163 - accuracy: 0.9585 - val_loss: 0.4436 - val_accuracy: 0.8477\n",
      "Epoch 12/30\n",
      "625/625 - 6s - loss: 0.1048 - accuracy: 0.9645 - val_loss: 0.5022 - val_accuracy: 0.8354\n",
      "Epoch 13/30\n",
      "625/625 - 7s - loss: 0.0953 - accuracy: 0.9678 - val_loss: 0.5140 - val_accuracy: 0.8386\n",
      "Epoch 14/30\n",
      "625/625 - 8s - loss: 0.0870 - accuracy: 0.9694 - val_loss: 0.5250 - val_accuracy: 0.8404\n",
      "Epoch 15/30\n",
      "625/625 - 8s - loss: 0.0802 - accuracy: 0.9728 - val_loss: 0.5553 - val_accuracy: 0.8408\n",
      "Epoch 16/30\n",
      "625/625 - 6s - loss: 0.0725 - accuracy: 0.9765 - val_loss: 0.6073 - val_accuracy: 0.8354\n",
      "Epoch 17/30\n",
      "625/625 - 6s - loss: 0.0670 - accuracy: 0.9785 - val_loss: 0.6215 - val_accuracy: 0.8346\n",
      "Epoch 18/30\n",
      "625/625 - 6s - loss: 0.0615 - accuracy: 0.9804 - val_loss: 0.6798 - val_accuracy: 0.8281\n",
      "Epoch 19/30\n",
      "625/625 - 5s - loss: 0.0544 - accuracy: 0.9829 - val_loss: 0.6944 - val_accuracy: 0.8304\n",
      "Epoch 20/30\n",
      "625/625 - 4s - loss: 0.0494 - accuracy: 0.9848 - val_loss: 0.7350 - val_accuracy: 0.8286\n",
      "Epoch 21/30\n",
      "625/625 - 3s - loss: 0.0470 - accuracy: 0.9855 - val_loss: 0.7705 - val_accuracy: 0.8283\n",
      "Epoch 22/30\n",
      "625/625 - 4s - loss: 0.0417 - accuracy: 0.9876 - val_loss: 0.8101 - val_accuracy: 0.8267\n",
      "Epoch 23/30\n",
      "625/625 - 3s - loss: 0.0388 - accuracy: 0.9880 - val_loss: 0.8671 - val_accuracy: 0.8193\n",
      "Epoch 24/30\n",
      "625/625 - 6s - loss: 0.0354 - accuracy: 0.9894 - val_loss: 0.9674 - val_accuracy: 0.8162\n",
      "Epoch 25/30\n",
      "625/625 - 6s - loss: 0.0325 - accuracy: 0.9904 - val_loss: 1.0212 - val_accuracy: 0.8153\n",
      "Epoch 26/30\n",
      "625/625 - 6s - loss: 0.0306 - accuracy: 0.9912 - val_loss: 0.9732 - val_accuracy: 0.8190\n",
      "Epoch 27/30\n",
      "625/625 - 5s - loss: 0.0273 - accuracy: 0.9920 - val_loss: 1.0432 - val_accuracy: 0.8149\n",
      "Epoch 28/30\n",
      "625/625 - 8s - loss: 0.0273 - accuracy: 0.9909 - val_loss: 1.0490 - val_accuracy: 0.8156\n",
      "Epoch 29/30\n",
      "625/625 - 9s - loss: 0.0231 - accuracy: 0.9932 - val_loss: 1.1875 - val_accuracy: 0.8140\n",
      "Epoch 30/30\n",
      "625/625 - 9s - loss: 0.0216 - accuracy: 0.9941 - val_loss: 1.2096 - val_accuracy: 0.8092\n"
     ]
    }
   ],
   "source": [
    "num_epochs = 30\n",
    "history = model.fit(training_padded, training_labels, epochs=num_epochs, validation_data=(testing_padded, testing_labels), verbose=2)"
   ]
  },
  {
   "cell_type": "code",
   "execution_count": 13,
   "metadata": {
    "id": "2HYfBKXjkmU8"
   },
   "outputs": [
    {
     "data": {
      "image/png": "[encoded data removed]",
      "text/plain": [
       "<Figure size 432x288 with 1 Axes>"
      ]
     },
     "metadata": {
      "needs_background": "light"
     },
     "output_type": "display_data"
    },
    {
     "data": {
      "image/png": "[encoded data removed]",
      "text/plain": [
       "<Figure size 432x288 with 1 Axes>"
      ]
     },
     "metadata": {
      "needs_background": "light"
     },
     "output_type": "display_data"
    }
   ],
   "source": [
    "import matplotlib.pyplot as plt\n",
    "\n",
    "\n",
    "def plot_graphs(history, string):\n",
    "  plt.plot(history.history[string])\n",
    "  plt.plot(history.history['val_'+string])\n",
    "  plt.xlabel(\"Epochs\")\n",
    "  plt.ylabel(string)\n",
    "  plt.legend([string, 'val_'+string])\n",
    "  plt.show()\n",
    "  \n",
    "plot_graphs(history, \"accuracy\")\n",
    "plot_graphs(history, \"loss\")"
   ]
  },
  {
   "cell_type": "code",
   "execution_count": 14,
   "metadata": {
    "id": "7SBdAZAenvzL"
   },
   "outputs": [
    {
     "name": "stdout",
     "output_type": "stream",
     "text": [
      "former <OOV> store clerk sues over secret 'black <OOV> for minority shoppers ? ? ? ? ? ? ? ? ? ? ? ? ? ? ? ? ? ? ? ? ? ? ? ? ? ? ? ? ? ? ? ? ? ? ? ? ? ? ? ? ? ? ? ? ? ? ? ? ? ? ? ? ? ? ? ? ? ? ? ? ? ? ? ? ? ? ? ? ? ? ? ? ? ? ? ? ? ? ? ? ? ? ? ? ? ? ? ?\n",
      "mom starting to fear son's web series closest thing she will have to grandchild\n",
      "1\n"
     ]
    }
   ],
   "source": [
    "reverse_word_index = dict([(value, key) for (key, value) in word_index.items()])\n",
    "\n",
    "def decode_sentence(text):\n",
    "    return ' '.join([reverse_word_index.get(i, '?') for i in text])\n",
    "\n",
    "print(decode_sentence(training_padded[0]))\n",
    "print(training_sentences[2])\n",
    "print(labels[2])"
   ]
  },
  {
   "cell_type": "code",
   "execution_count": 15,
   "metadata": {
    "id": "c9MqihtEkzQ9"
   },
   "outputs": [
    {
     "name": "stdout",
     "output_type": "stream",
     "text": [
      "(10000, 16)\n"
     ]
    }
   ],
   "source": [
    "e = model.layers[0]\n",
    "weights = e.get_weights()[0]\n",
    "print(weights.shape) # shape: (vocab_size, embedding_dim)\n"
   ]
  },
  {
   "cell_type": "code",
   "execution_count": 16,
   "metadata": {
    "id": "LoBXVffknldU"
   },
   "outputs": [],
   "source": [
    "import io\n",
    "\n",
    "out_v = io.open('vecs.tsv', 'w', encoding='utf-8')\n",
    "out_m = io.open('meta.tsv', 'w', encoding='utf-8')\n",
    "for word_num in range(1, vocab_size):\n",
    "  word = reverse_word_index[word_num]\n",
    "  embeddings = weights[word_num]\n",
    "  out_m.write(word + \"\\n\")\n",
    "  out_v.write('\\t'.join([str(x) for x in embeddings]) + \"\\n\")\n",
    "out_v.close()\n",
    "out_m.close()"
   ]
  },
  {
   "cell_type": "code",
   "execution_count": 17,
   "metadata": {
    "id": "U4eZ5HtVnnEE"
   },
   "outputs": [],
   "source": [
    "try:\n",
    "  from google.colab import files\n",
    "except ImportError:\n",
    "  pass\n",
    "else:\n",
    "  files.download('vecs.tsv')\n",
    "  files.download('meta.tsv')"
   ]
  },
  {
   "cell_type": "code",
   "execution_count": 18,
   "metadata": {
    "id": "cG8-ArY-qDcz"
   },
   "outputs": [
    {
     "name": "stdout",
     "output_type": "stream",
     "text": [
      "[[7.1838528e-01]\n",
      " [1.1653513e-06]]\n"
     ]
    }
   ],
   "source": [
    "sentence = [\"granny starting to fear spiders in the garden might be real\", \"game of thrones season finale showing this sunday night\"]\n",
    "sequences = tokenizer.texts_to_sequences(sentence)\n",
    "padded = pad_sequences(sequences, maxlen=max_length, padding=padding_type, truncating=trunc_type)\n",
    "print(model.predict(padded))"
   ]
  },
  {
   "cell_type": "code",
   "execution_count": null,
   "metadata": {
    "id": "xPFObL3nSM2m"
   },
   "outputs": [],
   "source": []
  }
 ],
 "metadata": {
  "accelerator": "GPU",
  "colab": {
   "collapsed_sections": [],
   "include_colab_link": true,
   "name": "C3_W2_Lab_2_sarcasm_classifier.ipynb",
   "provenance": [],
   "toc_visible": true
  },
  "kernelspec": {
   "display_name": "Python 3",
   "language": "python",
   "name": "python3"
  },
  "language_info": {
   "codemirror_mode": {
    "name": "ipython",
    "version": 3
   },
   "file_extension": ".py",
   "mimetype": "text/x-python",
   "name": "python",
   "nbconvert_exporter": "python",
   "pygments_lexer": "ipython3",
   "version": "3.6.4"
  }
 },
 "nbformat": 4,
 "nbformat_minor": 1
}
